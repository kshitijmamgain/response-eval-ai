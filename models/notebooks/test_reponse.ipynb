{
 "cells": [
  {
   "cell_type": "code",
   "execution_count": 9,
   "metadata": {},
   "outputs": [
    {
     "name": "stdout",
     "output_type": "stream",
     "text": [
      "   response  response_count\n",
      "0        No               1\n",
      "1  Somewhat               1\n"
     ]
    }
   ],
   "source": [
    "import pandas as pd\n",
    "\n",
    "# Input list\n",
    "data = [\n",
    "    {'response_clarity': [{'response_clarity': 'Yes'}], 'technical_accuracy': [{'technical_accuracy': 'Yes'}], 'answer_completeness': [{'answer_completeness': 'Somewhat'}]},\n",
    "    {'response_clarity': [{'response_clarity': 'Yes'}], 'technical_accuracy': [{'technical_accuracy': 'Yes'}], 'answer_completeness': [{'answer_completeness': 'No'}]}\n",
    "]\n",
    "\n",
    "# Function to extract response and its count from the dictionary\n",
    "def extract_response_count(dic_list):\n",
    "    response = dic_list[0][list(dic_list[0].keys())[0]]\n",
    "    return response\n",
    "\n",
    "# Convert list of dictionaries into separate pandas DataFrames\n",
    "def get_graph(response):\n",
    "    response_clarity_df = pd.DataFrame([extract_response_count(item['response_clarity']) for item in response], columns=['response']).groupby('response').size().reset_index(name='response_count')\n",
    "    technical_accuracy_df = pd.DataFrame([extract_response_count(item['technical_accuracy']) for item in response], columns=['response']).groupby('response').size().reset_index(name='response_count')\n",
    "    answer_completeness_df = pd.DataFrame([extract_response_count(item['answer_completeness']) for item in response], columns=['response']).groupby('response').size().reset_index(name='response_count')\n",
    "    return response_clarity_df,technical_accuracy_df,answer_completeness_df\n",
    "\n",
    "# Concatenate the DataFrames vertically\n",
    "# result_df = pd.concat([response_clarity_df, technical_accuracy_df, answer_completeness_df], ignore_index=True)\n",
    "\n",
    "# Group by 'response' and count occurrences\n",
    "# result_df = result_df.groupby('response').size().reset_index(name='response_count')\n",
    "\n",
    "# Display the result\n",
    "print(answer_completeness_df)\n"
   ]
  },
  {
   "cell_type": "code",
   "execution_count": 10,
   "metadata": {},
   "outputs": [
    {
     "data": {
      "text/html": [
       "<div>\n",
       "<style scoped>\n",
       "    .dataframe tbody tr th:only-of-type {\n",
       "        vertical-align: middle;\n",
       "    }\n",
       "\n",
       "    .dataframe tbody tr th {\n",
       "        vertical-align: top;\n",
       "    }\n",
       "\n",
       "    .dataframe thead th {\n",
       "        text-align: right;\n",
       "    }\n",
       "</style>\n",
       "<table border=\"1\" class=\"dataframe\">\n",
       "  <thead>\n",
       "    <tr style=\"text-align: right;\">\n",
       "      <th></th>\n",
       "      <th>response</th>\n",
       "      <th>response_count</th>\n",
       "    </tr>\n",
       "  </thead>\n",
       "  <tbody>\n",
       "    <tr>\n",
       "      <th>0</th>\n",
       "      <td>No</td>\n",
       "      <td>1</td>\n",
       "    </tr>\n",
       "    <tr>\n",
       "      <th>1</th>\n",
       "      <td>Somewhat</td>\n",
       "      <td>1</td>\n",
       "    </tr>\n",
       "  </tbody>\n",
       "</table>\n",
       "</div>"
      ],
      "text/plain": [
       "   response  response_count\n",
       "0        No               1\n",
       "1  Somewhat               1"
      ]
     },
     "execution_count": 10,
     "metadata": {},
     "output_type": "execute_result"
    }
   ],
   "source": [
    "answer_completeness_df"
   ]
  },
  {
   "cell_type": "code",
   "execution_count": null,
   "metadata": {},
   "outputs": [],
   "source": []
  }
 ],
 "metadata": {
  "kernelspec": {
   "display_name": "Python 3",
   "language": "python",
   "name": "python3"
  },
  "language_info": {
   "codemirror_mode": {
    "name": "ipython",
    "version": 3
   },
   "file_extension": ".py",
   "mimetype": "text/x-python",
   "name": "python",
   "nbconvert_exporter": "python",
   "pygments_lexer": "ipython3",
   "version": "3.10.13"
  }
 },
 "nbformat": 4,
 "nbformat_minor": 2
}
